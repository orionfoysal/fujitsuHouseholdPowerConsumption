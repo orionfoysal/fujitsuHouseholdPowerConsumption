{
 "cells": [
  {
   "cell_type": "code",
   "execution_count": 67,
   "metadata": {},
   "outputs": [],
   "source": [
    "import pandas as pd\n",
    "import numpy as np"
   ]
  },
  {
   "cell_type": "code",
   "execution_count": 81,
   "metadata": {},
   "outputs": [],
   "source": [
    "df2017 = pd.read_csv('2017smartmeter_day.csv')\n",
    "df2018 = pd.read_csv('2018smartmeter_day.csv')"
   ]
  },
  {
   "cell_type": "code",
   "execution_count": 82,
   "metadata": {},
   "outputs": [],
   "source": [
    "def prepareData(df):\n",
    "    #convert if dtype not datetime\n",
    "    df.date = pd.to_datetime(df.date)\n",
    "    #create index from column Date\n",
    "    df = df.set_index('date')\n",
    "    df2 = df[[str(i) for i in range(24)]]\n",
    "\n",
    "    #convert all times to timedelta\n",
    "    df2.columns = pd.to_timedelta(df2.columns + ':00:00', unit='h')\n",
    "    #reshape - columns to second level of index\n",
    "    df2 = df2.stack()\n",
    "    #Multindex to index\n",
    "    df2.index = df2.index.get_level_values(0) + df2.index.get_level_values(1)\n",
    "    #create column from index\n",
    "    df2 = df2.reset_index()\n",
    "    #get new column names\n",
    "    df2.columns = ['datetime','hourly_usage']\n",
    "\n",
    "    df2['date'] = df2.datetime.dt.date\n",
    "    df2['date'] = pd.to_datetime(df2.date)\n",
    "\n",
    "    df = df2.merge(df, on='date', how='left')[['datetime','weather','max_temp','min_temp','day_length','daily_usage','hourly_usage']]\n",
    "    \n",
    "    return df"
   ]
  },
  {
   "cell_type": "code",
   "execution_count": 83,
   "metadata": {},
   "outputs": [],
   "source": [
    "df2017 = prepareData(df2017)\n",
    "df2018 = prepareData(df2018)"
   ]
  },
  {
   "cell_type": "code",
   "execution_count": 86,
   "metadata": {},
   "outputs": [],
   "source": [
    "df = pd.concat([df2017, df2018])"
   ]
  },
  {
   "cell_type": "code",
   "execution_count": 89,
   "metadata": {},
   "outputs": [],
   "source": [
    "df.to_csv('smartmeter_all.csv', index=False)"
   ]
  },
  {
   "cell_type": "code",
   "execution_count": null,
   "metadata": {},
   "outputs": [],
   "source": []
  }
 ],
 "metadata": {
  "kernelspec": {
   "display_name": "Python 3",
   "language": "python",
   "name": "python3"
  },
  "language_info": {
   "codemirror_mode": {
    "name": "ipython",
    "version": 3
   },
   "file_extension": ".py",
   "mimetype": "text/x-python",
   "name": "python",
   "nbconvert_exporter": "python",
   "pygments_lexer": "ipython3",
   "version": "3.7.3"
  }
 },
 "nbformat": 4,
 "nbformat_minor": 2
}
